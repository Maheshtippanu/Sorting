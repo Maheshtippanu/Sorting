{
  "nbformat": 4,
  "nbformat_minor": 0,
  "metadata": {
    "colab": {
      "provenance": [],
      "authorship_tag": "ABX9TyONppfy7IQlYhFnou7Jqm8w",
      "include_colab_link": true
    },
    "kernelspec": {
      "name": "python3",
      "display_name": "Python 3"
    },
    "language_info": {
      "name": "python"
    }
  },
  "cells": [
    {
      "cell_type": "markdown",
      "metadata": {
        "id": "view-in-github",
        "colab_type": "text"
      },
      "source": [
        "<a href=\"https://colab.research.google.com/github/Maheshtippanu/Sorting/blob/Topological_Sorting/Topological.ipynb\" target=\"_parent\"><img src=\"https://colab.research.google.com/assets/colab-badge.svg\" alt=\"Open In Colab\"/></a>"
      ]
    },
    {
      "cell_type": "code",
      "execution_count": null,
      "metadata": {
        "colab": {
          "base_uri": "https://localhost:8080/"
        },
        "id": "j-0E1ow1q8uI",
        "outputId": "7955c27f-dbcf-4a05-8d26-2fd6737f265e"
      },
      "outputs": [
        {
          "output_type": "stream",
          "name": "stdout",
          "text": [
            "Topological Sort (DFS): ['B', 'D', 'F', 'A', 'C', 'E']\n"
          ]
        }
      ],
      "source": [
        "def topological_sort_dfs(graph):\n",
        "    visited = set()\n",
        "    stack = []\n",
        "\n",
        "    def dfs(node):\n",
        "        visited.add(node)\n",
        "        for neighbor in graph[node]:\n",
        "            if neighbor not in visited:\n",
        "                dfs(neighbor)\n",
        "        stack.append(node)\n",
        "\n",
        "    for vertex in graph:\n",
        "        if vertex not in visited:\n",
        "            dfs(vertex)\n",
        "\n",
        "    return stack[::-1]  # Return the reversed stack for correct order\n",
        "\n",
        "# Example usage\n",
        "if __name__ == \"__main__\":\n",
        "    graph = {\n",
        "        'A': ['C'],\n",
        "        'B': ['C', 'D'],\n",
        "        'C': ['E'],\n",
        "        'D': ['F'],\n",
        "        'E': [],\n",
        "        'F': []\n",
        "    }\n",
        "    sorted_order = topological_sort_dfs(graph)\n",
        "    print(\"Topological Sort (DFS):\", sorted_order)\n"
      ]
    }
  ]
}