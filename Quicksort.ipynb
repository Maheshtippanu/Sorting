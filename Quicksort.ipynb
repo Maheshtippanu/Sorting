{
  "nbformat": 4,
  "nbformat_minor": 0,
  "metadata": {
    "colab": {
      "provenance": [],
      "authorship_tag": "ABX9TyNRJTckP0nopCZZs8VUfBDx",
      "include_colab_link": true
    },
    "kernelspec": {
      "name": "python3",
      "display_name": "Python 3"
    },
    "language_info": {
      "name": "python"
    }
  },
  "cells": [
    {
      "cell_type": "markdown",
      "metadata": {
        "id": "view-in-github",
        "colab_type": "text"
      },
      "source": [
        "<a href=\"https://colab.research.google.com/github/Maheshtippanu/Sorting/blob/Quicksort/Quicksort.ipynb\" target=\"_parent\"><img src=\"https://colab.research.google.com/assets/colab-badge.svg\" alt=\"Open In Colab\"/></a>"
      ]
    },
    {
      "cell_type": "code",
      "execution_count": 1,
      "metadata": {
        "colab": {
          "base_uri": "https://localhost:8080/"
        },
        "id": "uGDsFvpcp2zw",
        "outputId": "11300d5d-a7cc-4138-cc77-b8b5efc537fe"
      },
      "outputs": [
        {
          "output_type": "stream",
          "name": "stdout",
          "text": [
            "Sorted array: [1, 1, 2, 3, 6, 8, 10]\n"
          ]
        }
      ],
      "source": [
        "def quicksort(arr):\n",
        "    if len(arr) <= 1:\n",
        "        return arr\n",
        "    else:\n",
        "        pivot = arr[len(arr) // 2]  # Choose the middle element as pivot\n",
        "        left = [x for x in arr if x < pivot]   # Elements less than pivot\n",
        "        middle = [x for x in arr if x == pivot] # Elements equal to pivot\n",
        "        right = [x for x in arr if x > pivot]  # Elements greater than pivot\n",
        "        return quicksort(left) + middle + quicksort(right)\n",
        "\n",
        "# Example usage:\n",
        "if __name__ == \"__main__\":\n",
        "    sample_array = [3, 6, 8, 10, 1, 2, 1]\n",
        "    sorted_array = quicksort(sample_array)\n",
        "    print(\"Sorted array:\", sorted_array)\n"
      ]
    }
  ]
}